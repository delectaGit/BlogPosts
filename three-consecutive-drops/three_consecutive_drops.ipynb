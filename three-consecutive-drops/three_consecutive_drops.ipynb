{
 "cells": [
  {
   "cell_type": "code",
   "execution_count": null,
   "metadata": {},
   "outputs": [
    {
     "name": "stderr",
     "output_type": "stream",
     "text": [
      "/home/alimina/anaconda3/lib/python3.6/site-packages/h5py/__init__.py:34: FutureWarning: Conversion of the second argument of issubdtype from `float` to `np.floating` is deprecated. In future, it will be treated as `np.float64 == np.dtype(float).type`.\n",
      "  from ._conv import register_converters as _register_converters\n"
     ]
    }
   ],
   "source": [
    "%matplotlib inline\n",
    "import numpy as np\n",
    "import tensorflow as tf\n",
    "import matplotlib.pyplot as plt\n",
    "from sklearn.metrics import accuracy_score, confusion_matrix\n",
    "import glob\n",
    "import pandas as pd"
   ]
  },
  {
   "cell_type": "code",
   "execution_count": null,
   "metadata": {},
   "outputs": [
    {
     "name": "stderr",
     "output_type": "stream",
     "text": [
      "Using TensorFlow backend.\n"
     ]
    }
   ],
   "source": [
    "from keras import backend as K\n",
    "from keras import regularizers\n",
    "from keras.models import Sequential\n",
    "from keras.layers import Dense,Activation,Dropout\n",
    "from keras.optimizers import SGD, Adam\n",
    "from keras.utils.np_utils import to_categorical"
   ]
  },
  {
   "cell_type": "code",
   "execution_count": null,
   "metadata": {
    "collapsed": true
   },
   "outputs": [],
   "source": [
    "import utility_funcs as uf"
   ]
  },
  {
   "cell_type": "code",
   "execution_count": null,
   "metadata": {
    "collapsed": true
   },
   "outputs": [],
   "source": [
    "def train_input_fn(features, labels, feature_labels, batch_size=128):\n",
    "    '''\n",
    "    Description:\n",
    "        This function is used in each step of training to prepare data\n",
    "        in the proper format for the TF DNNCLASSIFIER\n",
    "    Inputs:\n",
    "        features: np array, features of the model\n",
    "        labels: np array, the labels for the training set\n",
    "        feature_labels: python list, label names for each of the features\n",
    "        batch_size: num of rows to use in each iteration\n",
    "    '''\n",
    "    if type(features) != np.ndarray:\n",
    "        features = np.array(features)\n",
    "        \n",
    "    num_cols = features.shape[1]\n",
    "    assert len(feature_labels) == num_cols, \"number of labels do not match the number of columns in the feature set\"\n",
    "    \n",
    "    feat_dict = {}\n",
    "    for ii,feat in enumerate(feature_labels):\n",
    "        key = feature_labels[ii]\n",
    "        feat_dict[key] = features[:,ii]\n",
    "    dataset = tf.data.Dataset.from_tensor_slices((feat_dict,labels))\n",
    "    \n",
    "    dataset = dataset.shuffle(1000).repeat().batch(batch_size)\n",
    "    return dataset\n",
    "\n",
    "def eval_input_fn(features, labels, feature_labels, batch_size=32):\n",
    "    '''\n",
    "    Description:\n",
    "        This function is used for evaluating the performance of a model\n",
    "    Inputs:\n",
    "        features: np array, features of the model\n",
    "        labels: np array, the labels for the training set\n",
    "        feature_labels: python list, label names for each of the features\n",
    "        batch_size: num of rows to use in each iteration\n",
    "    '''\n",
    "    if type(features) != np.ndarray:\n",
    "        features = np.array(features)\n",
    "        \n",
    "    num_cols = features.shape[1]\n",
    "    assert len(feature_labels) == num_cols, \"number of labels do not match the number of columns in the feature set\"\n",
    "    \n",
    "    feat_dict = {}\n",
    "    for ii,feat in enumerate(feature_labels):\n",
    "        key = feature_labels[ii]\n",
    "        feat_dict[key] = features[:,ii]\n",
    "    \n",
    "    if labels is None:\n",
    "        inputs = feat_dict\n",
    "    else:\n",
    "        inputs = (feat_dict, labels)\n",
    "\n",
    "    dataset = tf.data.Dataset.from_tensor_slices(inputs)\n",
    "\n",
    "    dataset = dataset.batch(batch_size)\n",
    "\n",
    "    return dataset\n",
    "\n",
    "def make_feature_columns(features):\n",
    "    '''\n",
    "    Description:\n",
    "        turns the list of feature names into a list understandable for TF.\n",
    "        features must be all numeric\n",
    "    Inputs:\n",
    "        features: an iterable, containing the names of the feature set. \n",
    "            features must be all numeric\n",
    "    '''\n",
    "    my_feature_columns = []\n",
    "    for key in features:\n",
    "        my_feature_columns.append(tf.feature_column.numeric_column(key=key))\n",
    "    \n",
    "    return my_feature_columns"
   ]
  },
  {
   "cell_type": "code",
   "execution_count": null,
   "metadata": {
    "collapsed": true
   },
   "outputs": [],
   "source": [
    "def build_random_normal_dataset(df=None,N=100000,col_name='close'):\n",
    "    '''\n",
    "    Description:\n",
    "        builds a random normal sequance and returns it as a pandas df,\n",
    "        or a column added to an existing df\n",
    "    Inputs:\n",
    "        df: a pandas df, or none. If it's not None, the result will be \n",
    "            added as a column to this dataframe\n",
    "        N:  the number of samples from a dataframe\n",
    "        col_name: the column name to be used for storing the ramdom-normal\n",
    "            sequence\n",
    "    Output:\n",
    "        a pandas df, either containing a single column named col_name (if df is None)\n",
    "        or with an added column of name col_name (if df is provided)\n",
    "    '''\n",
    "    if df is None:\n",
    "        df = pd.DataFrame()\n",
    "    else:\n",
    "        assert type(df) == pd.core.frame.DataFrame, \"input df must be a pandas dataframe\"\n",
    "    \n",
    "    if col_name in df.columns:\n",
    "        print(\"WARNING: \", col_name, \"already exists and is now over-written!\")\n",
    "    \n",
    "    df[col_name] = np.random.normal(size=(N,)).astype(np.float32)\n",
    "\n",
    "    return df\n",
    "\n",
    "def shift_fwd_input_data(df,n=3,column=\"close\"):\n",
    "    '''\n",
    "    Description:\n",
    "        Given a dataframe, this function shifts the entries of the given column\n",
    "        forward and writes them as new columns\n",
    "    Inputs:\n",
    "        df : a pandas dataframe\n",
    "        n : the number of times to shift the column forward\n",
    "        column: the name of the column to be shifted\n",
    "    Output:\n",
    "        a pandas df with \"n\" shifted columns named \"column_+i\" where \"i\" is\n",
    "        in range(1,n+1)\n",
    "    '''\n",
    "    assert column in df.columns, column + \" is not a column of the given dataframe\"\n",
    "    \n",
    "    for ii in range(1,n+1):\n",
    "        df[column + \"_\" + str(ii)] = df[column].shift(ii)\n",
    "        \n",
    "    return df\n",
    "\n",
    "def shift_and_normalize(df,n=3,column='close'):\n",
    "    '''\n",
    "    Description:\n",
    "        first normalizes a column and then shifts its contents forwd \"n\" times\n",
    "        using the shift_fwd_input_data function\n",
    "    Inputs:\n",
    "        df : a pandas dataframe\n",
    "        n : the number of times to shift the column forward\n",
    "        column: the name of the column to be shifted\n",
    "    Output:\n",
    "        a pandas df with \"n\" normalized and shifted columns named \"column_+i\" \n",
    "        where \"i\" is in range(1,n+1)\n",
    "    '''\n",
    "    # CAUTION: FIRST NORMALIZE AND THEN SHIFT:\n",
    "    df[column] = (df[column] - np.mean(df[column])) / np.std(df[column])\n",
    "    df = shift_fwd_input_data(df,n=n,column=column)\n",
    "    \n",
    "        \n",
    "    return df\n",
    "\n",
    "def shift_normalize_mult30(df,n=3,column='close'):\n",
    "    '''\n",
    "    Description:\n",
    "        first normalizes a column, then multiplies its content by\n",
    "        30, and then shifts its contents forwd \"n\" times\n",
    "        using the shift_fwd_input_data function [this is to test Gibbs]\n",
    "    Inputs:\n",
    "        df : a pandas dataframe\n",
    "        n : the number of times to shift the column forward\n",
    "        column: the name of the column to be shifted\n",
    "    Output:\n",
    "        a pandas df with \"n\" normalized, multiplied and shifted columns named \n",
    "        \"column_+i\" where \"i\" is in range(1,n+1)\n",
    "    '''\n",
    "    # CAUTION: FIRST NORMALIZE AND THEN SHIFT:\n",
    "    df[column] = (df[column] - np.mean(df[column])) / np.std(df[column])\n",
    "    df[column] = df[column]*30\n",
    "    df = shift_fwd_input_data(df,n=n,column=column)\n",
    "    \n",
    "        \n",
    "    return df\n",
    "        \n",
    "def add_truth(df,cond,col_name='truth'):\n",
    "    '''\n",
    "    Description:\n",
    "        Given a rule, expressed in cond, this function adds a new column that\n",
    "        is set to one when cond is True, and 0 otherwise\n",
    "    Inputs:\n",
    "        df : a pandas dataframe\n",
    "        cond: the rule to use for classification\n",
    "        col_name: the name to use for the newly added column\n",
    "    '''\n",
    "    df[col_name] = 0\n",
    "    df.loc[cond,col_name] = 1\n",
    "    \n",
    "    \n",
    "def split_to_train_and_test(df,train_ratio=None,train_size=None):\n",
    "    '''\n",
    "    Description:\n",
    "        Split a dataframe to test and train sets based on a ratio, or size.\n",
    "        Uses train_ratio if both train_ratio and train_size are provided\n",
    "    Inputs:\n",
    "        df : a pandas dataframe\n",
    "        train_ratio : number in (0,1] to use for spliting df into train and test.\n",
    "                 train set will contain a train_ratio of samples\n",
    "        train_size : the number of samples to use in the training set\n",
    "    Outputs:\n",
    "        two pandas dataframes: (train_set, test_set)\n",
    "    '''\n",
    "    assert train_ratio != None or train_size != None,\\\n",
    "            \"either the train ratio, or the train_size must have values\"\n",
    "    \n",
    "    ell = len(df)\n",
    "    if train_ratio != None:\n",
    "        assert train_ratio <= 1, \"train_ratio must be less than one\"\n",
    "        assert train_ratio > 0, \"train ratio must be greater than zero\"\n",
    "        train_size = int(ell*train_ratio)\n",
    "    \n",
    "    assert train_size <= ell, \"train_size must be smaller than the length of the dataframe\"\n",
    "    \n",
    "    train = df[:train_size].values\n",
    "    test = df[train_size:].values\n",
    "    \n",
    "    return train, test"
   ]
  },
  {
   "cell_type": "code",
   "execution_count": null,
   "metadata": {
    "collapsed": true
   },
   "outputs": [],
   "source": [
    "config = tf.estimator.RunConfig(save_summary_steps=5000,\\\n",
    "                                log_step_count_steps=5000)"
   ]
  },
  {
   "cell_type": "markdown",
   "metadata": {},
   "source": [
    "<h3> random-normal samples, shallow NN</h3>"
   ]
  },
  {
   "cell_type": "code",
   "execution_count": null,
   "metadata": {
    "collapsed": true
   },
   "outputs": [],
   "source": [
    "np.random.seed(0)\n",
    "N = 300000\n",
    "# build the dataset from normal distribution:\n",
    "df = build_random_normal_dataset(N=N)\n",
    "\n",
    "# add shifted columns:\n",
    "df = shift_fwd_input_data(df)\n",
    "df.dropna(inplace=True)\n",
    "\n",
    "# split dataframe:\n",
    "features = list(df.columns)\n",
    "train_ratio=0.8\n",
    "train_x, test_x = split_to_train_and_test(df[features],train_ratio=train_ratio)\n",
    "\n",
    "# add truth column:\n",
    "cond = (df.close > df.close_1) & (df.close_1 > df.close_2) & (df.close_2 > df.close_3)\n",
    "add_truth(df,cond)\n",
    "train_y, test_y = split_to_train_and_test(df[\"truth\"],train_ratio=train_ratio)"
   ]
  },
  {
   "cell_type": "code",
   "execution_count": null,
   "metadata": {
    "collapsed": true,
    "scrolled": true
   },
   "outputs": [],
   "source": [
    "accuracies = []\n",
    "hidden_units =  [5]\n",
    "num_steps = 50000\n",
    "\n",
    "for i in range(50):\n",
    "    # build the NN structure:\n",
    "    my_feature_columns = make_feature_columns(features)\n",
    "    classifier = tf.estimator.DNNClassifier(feature_columns=my_feature_columns,\\\n",
    "                                            hidden_units=hidden_units,\\\n",
    "                                            n_classes=2,\\\n",
    "                                            config = config)\n",
    "    # train the model:\n",
    "    classifier.train(input_fn=lambda: train_input_fn(train_x, train_y,\\\n",
    "                                                     batch_size=256,\\\n",
    "                                                     feature_labels=features),\\\n",
    "                     steps=num_steps)\n",
    "\n",
    "    print(\"\\n\\n eval_results:\")\n",
    "    eval_result = classifier.evaluate(input_fn=lambda: eval_input_fn(test_x,\\\n",
    "                                                                     test_y,\\\n",
    "                                                                     feature_labels = features,\\\n",
    "                                                                     batch_size=256))\n",
    "    print('\\nTest set accuracy: {accuracy:0.3f}\\n'.format(**eval_result))\n",
    "    accuracies.append(eval_result['accuracy'])\n",
    "    print(\"iteration {} done\".format(i))\n",
    "    uf.rm_tmp_folder(classifier.model_dir)"
   ]
  },
  {
   "cell_type": "code",
   "execution_count": null,
   "metadata": {
    "scrolled": true
   },
   "outputs": [
    {
     "name": "stdout",
     "output_type": "stream",
     "text": [
      "0.95675, 0.9939167, 0.9986333, 0.99865, 0.98656666, 0.99881667, 0.99841666, 0.9985333, 0.99755, 0.99855, 0.9985833, 0.99866664, 0.9984667, 0.99146664, 0.99778336, 0.99868333, 0.99831665, 0.99868333, 0.99155, 0.99826664, 0.99873334, 0.99865, 0.99871665, 0.9923667, 0.99841666, 0.9985833, 0.99871665, 0.99158335, 0.9984, 0.9572, 0.99868333, 0.9987, 0.9975833, 0.99876666, 0.99865, 0.9984, 0.99813336, 0.95696664, 0.99865, 0.9983, 0.9845667, 0.99865, 0.9985667, 0.99855, 0.9985, 0.9986, 0.9916667, 0.99878335, 0.99866664, 0.99873334, "
     ]
    }
   ],
   "source": [
    "for xx in accuracies:\n",
    "    print(xx, end= ', ')"
   ]
  },
  {
   "cell_type": "code",
   "execution_count": null,
   "metadata": {},
   "outputs": [
    {
     "name": "stdout",
     "output_type": "stream",
     "text": [
      "0.9947266650000001 0.01005257103223613\n"
     ]
    },
    {
     "data": {
      "text/plain": [
       "Text(0,0.5,'frequency')"
      ]
     },
     "execution_count": null,
     "metadata": {},
     "output_type": "execute_result"
    },
    {
     "data": {
      "image/png": "[encoded data removed]",
      "text/plain": [
       "<matplotlib.figure.Figure at 0x7f68abf15550>"
      ]
     },
     "metadata": {},
     "output_type": "display_data"
    }
   ],
   "source": [
    "plt.figure(figsize=(7,5))\n",
    "print(np.mean(accuracies),np.std(accuracies))\n",
    "\n",
    "plt.tick_params(axis='both', which='major', labelsize=15)\n",
    "arr = plt.hist(accuracies)\n",
    "for i in range(len(arr[1])-1):\n",
    "    if int(arr[0][i]) != 0:\n",
    "        plt.text(float(arr[1][i])+0.001,arr[0][i],str(int(arr[0][i])),fontsize=15)\n",
    "        \n",
    "plt.xlabel(\"accuracy\",fontsize = 18)\n",
    "plt.ylabel(\"frequency\",fontsize = 18)"
   ]
  },
  {
   "cell_type": "markdown",
   "metadata": {},
   "source": [
    "<h3> random-normal samples, deeper NN </h3>"
   ]
  },
  {
   "cell_type": "code",
   "execution_count": null,
   "metadata": {
    "collapsed": true,
    "scrolled": true
   },
   "outputs": [],
   "source": [
    "hidden_units =  [5,5,5,4]\n",
    "num_steps = 50000\n",
    "accuracies_2 = []\n",
    "\n",
    "for i in range(50):\n",
    "    # build the NN structure:\n",
    "    my_feature_columns = make_feature_columns(features)\n",
    "    \n",
    "    classifier = tf.estimator.DNNClassifier(feature_columns=my_feature_columns,\\\n",
    "                                            hidden_units=hidden_units,\\\n",
    "                                            n_classes=2,\\\n",
    "                                            config = config)\n",
    "\n",
    "    # train the model:\n",
    "    classifier.train(input_fn=lambda: train_input_fn(train_x, train_y,\\\n",
    "                                                     batch_size=256,\\\n",
    "                                                     feature_labels=features),\\\n",
    "                     steps=num_steps)\n",
    "\n",
    "    print(\"\\n\\n eval_results:\")\n",
    "    eval_result = classifier.evaluate(input_fn=lambda: eval_input_fn(test_x,\\\n",
    "                                                                     test_y,\\\n",
    "                                                                     feature_labels = features,\\\n",
    "                                                                     batch_size=256))\n",
    "    # \n",
    "    classifier.config.session_config.Clear()\n",
    "    print('\\nTest set accuracy: {accuracy:0.3f}\\n'.format(**eval_result))\n",
    "    accuracies_2.append(eval_result['accuracy'])\n",
    "    print(\"iteration {} done\".format(i))\n",
    "    uf.rm_tmp_folder(classifier.model_dir)"
   ]
  },
  {
   "cell_type": "code",
   "execution_count": null,
   "metadata": {},
   "outputs": [
    {
     "name": "stdout",
     "output_type": "stream",
     "text": [
      "0.99948335, 0.9995667, 0.99986666, 0.99983335, 0.99978334, 0.9998, 0.99976665, 0.99975, 0.99978334, 0.99986666, 0.99981666, 0.99976665, 0.9995667, 0.9996667, 0.99953336, 0.99981666, 0.99985, 0.99976665, 0.95696664, 0.9999, 0.9996833, 0.95696664, 0.9997333, 0.9996833, 0.99983335, 0.9998, 0.9998, 0.99978334, 0.9999, 0.99976665, 0.9999167, 0.99975, 0.9999, 0.9996167, 0.9998, 0.99988335, 0.9996667, 0.99986666, 0.99946666, 0.9997, 0.99986666, 0.9995667, 0.95696664, 0.99976665, 0.99946666, 0.99978334, 0.9991, 0.9993, 0.99951667, 0.9999, "
     ]
    }
   ],
   "source": [
    "# print accuracies so we won't need to rerun the expriment again:\n",
    "for xx in accuracies_2:\n",
    "    print(xx, end= ', ')"
   ]
  },
  {
   "cell_type": "code",
   "execution_count": null,
   "metadata": {},
   "outputs": [
    {
     "name": "stdout",
     "output_type": "stream",
     "text": [
      "0.9971580007999999 0.010155457124499098\n"
     ]
    },
    {
     "data": {
      "text/plain": [
       "Text(0,0.5,'frequency')"
      ]
     },
     "execution_count": null,
     "metadata": {},
     "output_type": "execute_result"
    },
    {
     "data": {
      "image/png": "[encoded data removed]",
      "text/plain": [
       "<matplotlib.figure.Figure at 0x7f68aa48d358>"
      ]
     },
     "metadata": {},
     "output_type": "display_data"
    }
   ],
   "source": [
    "plt.figure(figsize=(7,5))\n",
    "plt.tick_params(axis='both', which='major', labelsize=15)\n",
    "\n",
    "print(np.mean(accuracies_2),np.std(accuracies_2))\n",
    "arr = plt.hist(accuracies_2)\n",
    "for i in range(len(arr[1])-1):\n",
    "    if int(arr[0][i]) != 0:\n",
    "        plt.text(float(arr[1][i])+0.001,arr[0][i],str(int(arr[0][i])),fontsize=15)\n",
    "        \n",
    "plt.xlabel(\"accuracy\",fontsize = 18)\n",
    "plt.ylabel(\"frequency\",fontsize = 18)"
   ]
  },
  {
   "cell_type": "markdown",
   "metadata": {},
   "source": [
    "<h3> random-normal samples, Deep and tall NN </h3>"
   ]
  },
  {
   "cell_type": "code",
   "execution_count": null,
   "metadata": {
    "collapsed": true,
    "scrolled": true
   },
   "outputs": [],
   "source": [
    "hidden_units =  [60,60,30,30,5]\n",
    "num_steps = 50000\n",
    "accuracies_3 = []\n",
    "\n",
    "for i in range(50):\n",
    "    # build the NN structure:\n",
    "    my_feature_columns = make_feature_columns(features)\n",
    "    \n",
    "    classifier = tf.estimator.DNNClassifier(feature_columns=my_feature_columns,\\\n",
    "                                            hidden_units=hidden_units,\\\n",
    "                                            n_classes=2,\\\n",
    "                                            config = config)\n",
    "\n",
    "    # train the model:\n",
    "    classifier.train(input_fn=lambda: train_input_fn(train_x, train_y,\\\n",
    "                                                     batch_size=256,\\\n",
    "                                                     feature_labels=features),\\\n",
    "                     steps=num_steps)\n",
    "\n",
    "    print(\"\\n\\n eval_results:\")\n",
    "    eval_result = classifier.evaluate(input_fn=lambda: eval_input_fn(test_x,\\\n",
    "                                                                     test_y,\\\n",
    "                                                                     feature_labels = features,\\\n",
    "                                                                     batch_size=256))\n",
    "    # \n",
    "    classifier.config.session_config.Clear()\n",
    "    print('\\nTest set accuracy: {accuracy:0.3f}\\n'.format(**eval_result))\n",
    "    accuracies_3.append(eval_result['accuracy'])\n",
    "    print(\"iteration {} done\".format(i))\n",
    "    uf.rm_tmp_folder(classifier.model_dir)"
   ]
  },
  {
   "cell_type": "code",
   "execution_count": null,
   "metadata": {},
   "outputs": [
    {
     "name": "stdout",
     "output_type": "stream",
     "text": [
      "0.99948335, 0.99941665, 0.99953336, 0.9996167, 0.99971664, 0.99945, 0.99953336, 0.99978334, 0.9995, 0.99953336, 0.9996833, 0.99955, 0.99946666, 0.99953336, 0.9996333, 0.99943334, 0.99951667, 0.99955, 0.9995667, 0.9995833, 0.99965, 0.9995833, 0.99955, 0.99935, 0.99953336, 0.99938333, 0.99971664, 0.9995833, 0.9998, 0.95696664, 0.9995833, 0.99965, 0.9996333, 0.9995, 0.99936664, 0.9995833, 0.9995667, 0.9995, 0.99965, 0.9996167, 0.99916667, 0.99951667, 0.9996333, 0.9996333, 0.99943334, 0.9995833, 0.9995833, 0.99965, 0.99936664, 0.9995833, "
     ]
    }
   ],
   "source": [
    "for xx in accuracies_3:\n",
    "    print(xx, end= ', ')"
   ]
  },
  {
   "cell_type": "code",
   "execution_count": null,
   "metadata": {},
   "outputs": [
    {
     "name": "stdout",
     "output_type": "stream",
     "text": [
      "0.9986999944 0.005962973867538635\n"
     ]
    },
    {
     "data": {
      "text/plain": [
       "Text(0,0.5,'frequency')"
      ]
     },
     "execution_count": null,
     "metadata": {},
     "output_type": "execute_result"
    },
    {
     "data": {
      "image/png": "[encoded data removed]",
      "text/plain": [
       "<matplotlib.figure.Figure at 0x7f68aa45b320>"
      ]
     },
     "metadata": {},
     "output_type": "display_data"
    }
   ],
   "source": [
    "plt.figure(figsize=(7,5))\n",
    "plt.tick_params(axis='both', which='major', labelsize=15)\n",
    "\n",
    "print(np.mean(accuracies_3),np.std(accuracies_3))\n",
    "arr = plt.hist(accuracies_3)\n",
    "for i in range(len(arr[1])-1):\n",
    "    if int(arr[0][i]) != 0:\n",
    "        plt.text(float(arr[1][i])+0.001,arr[0][i],str(int(arr[0][i])),fontsize=15)\n",
    "        \n",
    "plt.xlabel(\"accuracy\",fontsize = 18)\n",
    "plt.ylabel(\"frequency\",fontsize = 18)"
   ]
  },
  {
   "cell_type": "markdown",
   "metadata": {},
   "source": [
    "<h3> Market data, single currency: </h3>"
   ]
  },
  {
   "cell_type": "code",
   "execution_count": null,
   "metadata": {},
   "outputs": [
    {
     "name": "stdout",
     "output_type": "stream",
     "text": [
      "75039\n"
     ]
    }
   ],
   "source": [
    "# read market data:\n",
    "file_list = glob.glob(\"./data/*\")\n",
    "\n",
    "df = uf.read_many_files(file_list[:1],add_to_each_df_func=shift_fwd_input_data)\n",
    "print(len(df))\n",
    "\n",
    "# drop nan:\n",
    "df.dropna(inplace=True)\n",
    "\n",
    "# split dataframe:\n",
    "features = ['close','close_1','close_2','close_3']\n",
    "train_ratio=0.8\n",
    "train_x, test_x = split_to_train_and_test(df[features],train_ratio=train_ratio)\n",
    "\n",
    "# add truth column:\n",
    "cond = (df.close > df.close_1) & (df.close_1 > df.close_2) & (df.close_2 > df.close_3)\n",
    "add_truth(df,cond)\n",
    "train_y, test_y = split_to_train_and_test(df[\"truth\"],train_ratio=train_ratio)"
   ]
  },
  {
   "cell_type": "code",
   "execution_count": null,
   "metadata": {
    "collapsed": true,
    "scrolled": true
   },
   "outputs": [],
   "source": [
    "hidden_units =  [60,60,30,30,5]\n",
    "num_steps = 50000\n",
    "accuracies_4 = []\n",
    "\n",
    "for i in range(20):\n",
    "    # build the NN structure:\n",
    "    my_feature_columns = make_feature_columns(features)\n",
    "    \n",
    "    classifier = tf.estimator.DNNClassifier(feature_columns=my_feature_columns,\\\n",
    "                                            hidden_units=hidden_units,\\\n",
    "                                            n_classes=2,\\\n",
    "                                            config = config)\n",
    "\n",
    "    # train the model:\n",
    "    classifier.train(input_fn=lambda: train_input_fn(train_x, train_y,\\\n",
    "                                                     batch_size=256,\\\n",
    "                                                     feature_labels=features),\\\n",
    "                     steps=num_steps)\n",
    "\n",
    "    print(\"\\n\\n eval_results:\")\n",
    "    eval_result = classifier.evaluate(input_fn=lambda: eval_input_fn(test_x,\\\n",
    "                                                                     test_y,\\\n",
    "                                                                     feature_labels = features,\\\n",
    "                                                                     batch_size=256))\n",
    "    \n",
    "    print('\\nTest set accuracy: {accuracy:0.3f}\\n'.format(**eval_result))\n",
    "    accuracies_4.append(eval_result['accuracy'])\n",
    "    print(\"iteration {} done\".format(i))\n",
    "    uf.rm_tmp_folder(classifier.model_dir)"
   ]
  },
  {
   "cell_type": "code",
   "execution_count": null,
   "metadata": {},
   "outputs": [
    {
     "name": "stdout",
     "output_type": "stream",
     "text": [
      "0.89085823, 0.89085823, 0.89085823, 0.89085823, 0.89085823, 0.89085823, 0.89085823, 0.89085823, 0.89085823, 0.89085823, 0.89085823, 0.89085823, 0.89085823, 0.89085823, 0.89085823, 0.89085823, 0.89085823, 0.89085823, 0.89085823, 0.89085823, "
     ]
    }
   ],
   "source": [
    "for xx in accuracies_4:\n",
    "    print(xx,end=\", \")"
   ]
  },
  {
   "cell_type": "markdown",
   "metadata": {},
   "source": [
    "<h3> Market data, single currency, normalized: </h3>"
   ]
  },
  {
   "cell_type": "code",
   "execution_count": null,
   "metadata": {},
   "outputs": [
    {
     "name": "stdout",
     "output_type": "stream",
     "text": [
      "75039\n"
     ]
    }
   ],
   "source": [
    "# read market data:\n",
    "file_list = glob.glob(\"./data/*\")\n",
    "\n",
    "df = uf.read_many_files(file_list[:1],add_to_each_df_func=shift_and_normalize)\n",
    "print(len(df))\n",
    "\n",
    "# drop nan:\n",
    "df.dropna(inplace=True)\n",
    "\n",
    "# split dataframe:\n",
    "features = ['close','close_1','close_2','close_3']\n",
    "train_ratio=0.8\n",
    "train_x, test_x = split_to_train_and_test(df[features],train_ratio=train_ratio)\n",
    "\n",
    "# add truth column:\n",
    "cond = (df.close > df.close_1) & (df.close_1 > df.close_2) & (df.close_2 > df.close_3)\n",
    "add_truth(df,cond)\n",
    "train_y, test_y = split_to_train_and_test(df[\"truth\"],train_ratio=train_ratio)"
   ]
  },
  {
   "cell_type": "code",
   "execution_count": null,
   "metadata": {
    "collapsed": true,
    "scrolled": true
   },
   "outputs": [],
   "source": [
    "hidden_units =  [60,60,30,30,5]\n",
    "num_steps = 50000\n",
    "accuracies_5 = []\n",
    "\n",
    "for i in range(50):\n",
    "    # build the NN structure:\n",
    "    my_feature_columns = make_feature_columns(features)\n",
    "    \n",
    "    classifier = tf.estimator.DNNClassifier(feature_columns=my_feature_columns,\\\n",
    "                                            hidden_units=hidden_units,\\\n",
    "                                            n_classes=2,\\\n",
    "                                            config = config)\n",
    "\n",
    "    # train the model:\n",
    "    classifier.train(input_fn=lambda: train_input_fn(train_x, train_y,\\\n",
    "                                                     batch_size=256,\\\n",
    "                                                     feature_labels=features),\\\n",
    "                     steps=num_steps)\n",
    "\n",
    "    print(\"\\n\\n eval_results:\")\n",
    "    eval_result = classifier.evaluate(input_fn=lambda: eval_input_fn(test_x,\\\n",
    "                                                                     test_y,\\\n",
    "                                                                     feature_labels = features,\\\n",
    "                                                                     batch_size=256))\n",
    "    \n",
    "    print('\\nTest set accuracy: {accuracy:0.3f}\\n'.format(**eval_result))\n",
    "    accuracies_5.append(eval_result['accuracy'])\n",
    "    print(\"iteration {} done\".format(i))\n",
    "    uf.rm_tmp_folder(classifier.model_dir)"
   ]
  },
  {
   "cell_type": "code",
   "execution_count": null,
   "metadata": {},
   "outputs": [
    {
     "name": "stdout",
     "output_type": "stream",
     "text": [
      "0.96801704, 0.95682305, 0.9716818, 0.89085823, 0.9505597, 0.9642191, 0.9503598, 0.9732809, 0.961887, 0.89085823, 0.9666178, 0.95629, 0.96068764, 0.9438966, 0.9646855, 0.9807436, 0.89085823, 0.9807436, 0.97961086, 0.93243605, 0.97694564, 0.9751466, 0.9695496, 0.98087686, 0.9770123, 0.944363, 0.9303038, 0.97721213, 0.961887, 0.9520256, 0.9688833, 0.97428036, 0.95902187, 0.96348614, 0.9658182, 0.9780117, 0.9754797, 0.96728414, 0.94996, 0.9807436, 0.93010396, 0.95615673, 0.95275855, 0.9717484, 0.9617537, 0.9680837, 0.97974414, 0.9554904, 0.98087686, 0.94149786, "
     ]
    }
   ],
   "source": [
    "for xx in accuracies_5:\n",
    "    print(xx,end=\", \")"
   ]
  },
  {
   "cell_type": "code",
   "execution_count": null,
   "metadata": {},
   "outputs": [
    {
     "name": "stdout",
     "output_type": "stream",
     "text": [
      "0.9592324 0.021864932\n"
     ]
    },
    {
     "data": {
      "text/plain": [
       "Text(0,0.5,'frequency')"
      ]
     },
     "execution_count": null,
     "metadata": {},
     "output_type": "execute_result"
    },
    {
     "data": {
      "image/png": "[encoded data removed]",
      "text/plain": [
       "<matplotlib.figure.Figure at 0x7f6887412630>"
      ]
     },
     "metadata": {},
     "output_type": "display_data"
    }
   ],
   "source": [
    "plt.figure(figsize=(7,5))\n",
    "plt.tick_params(axis='both', which='major', labelsize=15)\n",
    "\n",
    "print(np.mean(accuracies_5),np.std(accuracies_5))\n",
    "arr = plt.hist(accuracies_5)\n",
    "for i in range(len(arr[1])-1):\n",
    "    if int(arr[0][i]) != 0:\n",
    "        plt.text(float(arr[1][i])+0.001,arr[0][i],str(int(arr[0][i])),fontsize=15)\n",
    "        \n",
    "plt.xlabel(\"accuracy\",fontsize = 18)\n",
    "plt.ylabel(\"frequency\",fontsize = 18)"
   ]
  },
  {
   "cell_type": "markdown",
   "metadata": {},
   "source": [
    "<h3> Market data, 10 currencies, normalized: </h3>"
   ]
  },
  {
   "cell_type": "code",
   "execution_count": null,
   "metadata": {},
   "outputs": [
    {
     "name": "stdout",
     "output_type": "stream",
     "text": [
      "751533\n"
     ]
    }
   ],
   "source": [
    "# read market data:\n",
    "file_list = glob.glob(\"./data/*\")\n",
    "\n",
    "df = uf.read_many_files(file_list,add_to_each_df_func=shift_and_normalize)\n",
    "print(len(df))\n",
    "\n",
    "# drop nan:\n",
    "df.dropna(inplace=True)\n",
    "\n",
    "# split dataframe:\n",
    "features = ['close','close_1','close_2','close_3']\n",
    "train_ratio=0.8\n",
    "train_x, test_x = split_to_train_and_test(df[features],train_ratio=train_ratio)\n",
    "\n",
    "# add truth column:\n",
    "cond = (df.close > df.close_1) & (df.close_1 > df.close_2) & (df.close_2 > df.close_3)\n",
    "add_truth(df,cond)\n",
    "train_y, test_y = split_to_train_and_test(df[\"truth\"],train_ratio=train_ratio)"
   ]
  },
  {
   "cell_type": "code",
   "execution_count": null,
   "metadata": {
    "collapsed": true,
    "scrolled": true
   },
   "outputs": [],
   "source": [
    "hidden_units =  [60,60,30,30,5]\n",
    "num_steps = 200000\n",
    "accuracies_6 = []\n",
    "\n",
    "for i in range(30):\n",
    "    # build the NN structure:\n",
    "    my_feature_columns = make_feature_columns(features)\n",
    "    \n",
    "    classifier = tf.estimator.DNNClassifier(feature_columns=my_feature_columns,\\\n",
    "                                            hidden_units=hidden_units,\\\n",
    "                                            n_classes=2,\\\n",
    "                                            config = config)\n",
    "\n",
    "    # train the model:\n",
    "    classifier.train(input_fn=lambda: train_input_fn(train_x, train_y,\\\n",
    "                                                     batch_size=256,\\\n",
    "                                                     feature_labels=features),\\\n",
    "                     steps=num_steps)\n",
    "\n",
    "    print(\"\\n\\n eval_results:\")\n",
    "    eval_result = classifier.evaluate(input_fn=lambda: eval_input_fn(test_x,\\\n",
    "                                                                     test_y,\\\n",
    "                                                                     feature_labels = features,\\\n",
    "                                                                     batch_size=256))\n",
    "    \n",
    "    print('\\nTest set accuracy: {accuracy:0.3f}\\n'.format(**eval_result))\n",
    "    accuracies_6.append(eval_result['accuracy'])\n",
    "    print(\"iteration {} done\".format(i))\n",
    "    uf.rm_tmp_folder(classifier.model_dir)"
   ]
  },
  {
   "cell_type": "code",
   "execution_count": null,
   "metadata": {},
   "outputs": [
    {
     "name": "stdout",
     "output_type": "stream",
     "text": [
      "0.9616741, 0.9794362, 0.9737728, 0.96721107, 0.963431, 0.94923604, 0.9491961, 0.9581936, 0.9627855, 0.9566297, 0.8957834, 0.9439852, 0.9591652, 0.9554451, 0.9785378, 0.94403183, 0.8957834, 0.9688814, 0.96013016, 0.94857717, 0.92438644, 0.9591253, 0.9583999, 0.96499497, 0.9471863, 0.94863707, 0.9664657, 0.9597043, 0.95881915, 0.9690478, "
     ]
    }
   ],
   "source": [
    "for xx in accuracies_6:\n",
    "    print(xx,end=\", \")"
   ]
  },
  {
   "cell_type": "code",
   "execution_count": null,
   "metadata": {},
   "outputs": [
    {
     "name": "stdout",
     "output_type": "stream",
     "text": [
      "0.95428836 0.01911271\n"
     ]
    },
    {
     "data": {
      "text/plain": [
       "Text(0,0.5,'frequency')"
      ]
     },
     "execution_count": null,
     "metadata": {},
     "output_type": "execute_result"
    },
    {
     "data": {
      "image/png": "[encoded data removed]",
      "text/plain": [
       "<matplotlib.figure.Figure at 0x7f67d0a21ba8>"
      ]
     },
     "metadata": {},
     "output_type": "display_data"
    }
   ],
   "source": [
    "plt.figure(figsize=(7,5))\n",
    "plt.tick_params(axis='both', which='major', labelsize=15)\n",
    "\n",
    "print(np.mean(accuracies_6),np.std(accuracies_6))\n",
    "arr = plt.hist(accuracies_6)\n",
    "for i in range(len(arr[1])-1):\n",
    "    if int(arr[0][i]) != 0:\n",
    "        plt.text(float(arr[1][i])+0.001,arr[0][i],str(int(arr[0][i])),fontsize=15)\n",
    "        \n",
    "plt.xlabel(\"accuracy\",fontsize = 18)\n",
    "plt.ylabel(\"frequency\",fontsize = 18)"
   ]
  },
  {
   "cell_type": "markdown",
   "metadata": {},
   "source": [
    "<h3> Market data, single currency, normlaized and multiplied by 30: </h3>"
   ]
  },
  {
   "cell_type": "code",
   "execution_count": null,
   "metadata": {},
   "outputs": [
    {
     "name": "stdout",
     "output_type": "stream",
     "text": [
      "75039\n"
     ]
    }
   ],
   "source": [
    "# read market data:\n",
    "file_list = glob.glob(\"./data/*\")\n",
    "\n",
    "df = uf.read_many_files(file_list[:1],add_to_each_df_func=shift_normalize_mult30)\n",
    "print(len(df))\n",
    "\n",
    "# drop nan:\n",
    "df.dropna(inplace=True)\n",
    "\n",
    "# split dataframe:\n",
    "features = ['close','close_1','close_2','close_3']\n",
    "train_ratio=0.8\n",
    "train_x, test_x = split_to_train_and_test(df[features],train_ratio=train_ratio)\n",
    "\n",
    "# add truth column:\n",
    "cond = (df.close > df.close_1) & (df.close_1 > df.close_2) & (df.close_2 > df.close_3)\n",
    "add_truth(df,cond)\n",
    "train_y, test_y = split_to_train_and_test(df[\"truth\"],train_ratio=train_ratio)"
   ]
  },
  {
   "cell_type": "code",
   "execution_count": null,
   "metadata": {
    "collapsed": true,
    "scrolled": true
   },
   "outputs": [],
   "source": [
    "hidden_units =  [60,60,30,30,5]\n",
    "num_steps = 50000\n",
    "accuracies_7 = []\n",
    "\n",
    "for i in range(50):\n",
    "    # build the NN structure:\n",
    "    my_feature_columns = make_feature_columns(features)\n",
    "    \n",
    "    classifier = tf.estimator.DNNClassifier(feature_columns=my_feature_columns,\\\n",
    "                                            hidden_units=hidden_units,\\\n",
    "                                            n_classes=2,\\\n",
    "                                            config = config)\n",
    "\n",
    "    # train the model:\n",
    "    classifier.train(input_fn=lambda: train_input_fn(train_x, train_y,\\\n",
    "                                                     batch_size=256,\\\n",
    "                                                     feature_labels=features),\\\n",
    "                     steps=num_steps)\n",
    "\n",
    "    print(\"\\n\\n eval_results:\")\n",
    "    eval_result = classifier.evaluate(input_fn=lambda: eval_input_fn(test_x,\\\n",
    "                                                                     test_y,\\\n",
    "                                                                     feature_labels = features,\\\n",
    "                                                                     batch_size=256))\n",
    "    \n",
    "    print('\\nTest set accuracy: {accuracy:0.3f}\\n'.format(**eval_result))\n",
    "    accuracies_7.append(eval_result['accuracy'])\n",
    "    print(\"iteration {} done\".format(i))\n",
    "    uf.rm_tmp_folder(classifier.model_dir)"
   ]
  },
  {
   "cell_type": "code",
   "execution_count": null,
   "metadata": {},
   "outputs": [
    {
     "name": "stdout",
     "output_type": "stream",
     "text": [
      "0.9492271, 0.9826759, 0.9493604, 0.9754797, 0.98380864, 0.89085823, 0.98634064, 0.96961623, 0.98254263, 0.9887393, 0.9880064, 0.9754797, 0.95449096, 0.97727877, 0.9848747, 0.96755064, 0.9656183, 0.98380864, 0.9658182, 0.9564232, 0.9620869, 0.98833954, 0.9838753, 0.89085823, 0.9578225, 0.9665512, 0.98334223, 0.9848747, 0.983742, 0.9846748, 0.99027187, 0.95002663, 0.9856743, 0.9822095, 0.9816098, 0.98634064, 0.9836087, 0.97721213, 0.9676839, 0.89085823, 0.96088755, 0.9800107, 0.89085823, 0.9920043, 0.9845416, 0.9881396, 0.97761196, 0.89085823, 0.9884062, 0.9820762, "
     ]
    }
   ],
   "source": [
    "for xx in accuracies_7:\n",
    "    print(xx,end=\", \")"
   ]
  },
  {
   "cell_type": "code",
   "execution_count": null,
   "metadata": {},
   "outputs": [
    {
     "name": "stdout",
     "output_type": "stream",
     "text": [
      "0.96790105 0.028125696\n"
     ]
    },
    {
     "data": {
      "text/plain": [
       "Text(0,0.5,'frequency')"
      ]
     },
     "execution_count": null,
     "metadata": {},
     "output_type": "execute_result"
    },
    {
     "data": {
      "image/png": "[encoded data removed]",
      "text/plain": [
       "<matplotlib.figure.Figure at 0x7ff6db3bf4e0>"
      ]
     },
     "metadata": {},
     "output_type": "display_data"
    }
   ],
   "source": [
    "plt.figure(figsize=(7,5))\n",
    "plt.tick_params(axis='both', which='major', labelsize=15)\n",
    "\n",
    "print(np.mean(accuracies_7),np.std(accuracies_7))\n",
    "arr = plt.hist(accuracies_7)\n",
    "for i in range(len(arr[1])-1):\n",
    "    if int(arr[0][i]) != 0:\n",
    "        plt.text(float(arr[1][i])+0.001,arr[0][i],str(int(arr[0][i])),fontsize=15)\n",
    "        \n",
    "plt.xlabel(\"accuracy\",fontsize = 18)\n",
    "plt.ylabel(\"frequency\",fontsize = 18)"
   ]
  },
  {
   "cell_type": "markdown",
   "metadata": {
    "collapsed": true
   },
   "source": [
    "<h3> full market data, close difference instead of closing price: </h3>"
   ]
  },
  {
   "cell_type": "code",
   "execution_count": null,
   "metadata": {},
   "outputs": [
    {
     "name": "stdout",
     "output_type": "stream",
     "text": [
      "751533\n"
     ]
    }
   ],
   "source": [
    "# read market data:\n",
    "file_list = glob.glob(\"./data/*\")\n",
    "\n",
    "df = uf.read_many_files(file_list,add_to_each_df_func=shift_and_normalize)\n",
    "print(len(df))\n",
    "\n",
    "# drop nans, add diff cols:\n",
    "df.dropna(inplace=True)\n",
    "df['diff_1'] = df.close - df.close_1\n",
    "df['diff_2'] = df.close_1 - df.close_2\n",
    "df['diff_3'] = df.close_2 - df.close_3\n",
    "\n",
    "# split dataframe:\n",
    "features = ['diff_1','diff_2','diff_3']\n",
    "train_ratio=0.8\n",
    "train_x, test_x = split_to_train_and_test(df[features],train_ratio=train_ratio)\n",
    "\n",
    "# add truth column:\n",
    "cond = (df.close > df.close_1) & (df.close_1 > df.close_2) & (df.close_2 > df.close_3)\n",
    "add_truth(df,cond)\n",
    "train_y, test_y = split_to_train_and_test(df[\"truth\"],train_ratio=train_ratio)"
   ]
  },
  {
   "cell_type": "code",
   "execution_count": null,
   "metadata": {
    "collapsed": true,
    "scrolled": true
   },
   "outputs": [],
   "source": [
    "np.random.seed(0)\n",
    "hidden_units =  [5,5]\n",
    "num_steps = 200000\n",
    "accuracies_8 = []\n",
    "\n",
    "for i in range(30):\n",
    "    # build the NN structure:\n",
    "    my_feature_columns = make_feature_columns(features)\n",
    "    \n",
    "    classifier = tf.estimator.DNNClassifier(feature_columns=my_feature_columns,\\\n",
    "                                            hidden_units=hidden_units,\\\n",
    "                                            n_classes=2,\\\n",
    "                                            config = config)\n",
    "\n",
    "    # train the model:\n",
    "    classifier.train(input_fn=lambda: train_input_fn(train_x, train_y,\\\n",
    "                                                     batch_size=256,\\\n",
    "                                                     feature_labels=features),\\\n",
    "                     steps=num_steps)\n",
    "\n",
    "    print(\"\\n\\n eval_results:\")\n",
    "    eval_result = classifier.evaluate(input_fn=lambda: eval_input_fn(test_x,\\\n",
    "                                                                     test_y,\\\n",
    "                                                                     feature_labels = features,\\\n",
    "                                                                     batch_size=256))\n",
    "    \n",
    "    print('\\nTest set accuracy: {accuracy:0.3f}\\n'.format(**eval_result))\n",
    "    accuracies_8.append(eval_result['accuracy'])\n",
    "    print(\"iteration {} done\".format(i))\n",
    "    uf.rm_tmp_folder(classifier.model_dir)"
   ]
  },
  {
   "cell_type": "code",
   "execution_count": null,
   "metadata": {},
   "outputs": [
    {
     "name": "stdout",
     "output_type": "stream",
     "text": [
      "0.9986224, 0.99859583, 0.9989951, 0.99886864, 0.9988021, 0.99846935, 0.99886864, 0.9985492, 0.9986091, 0.925205, 0.99827635, 0.99853593, 0.9974645, 0.9929724, 0.9726548, 0.99840283, 0.9981832, 0.9987688, 0.9987023, 0.9987755, 0.997318, 0.9656338, 0.92626977, 0.9259903, 0.9981632, 0.9981699, 0.99879545, 0.99880874, 0.9905433, 0.99873555, "
     ]
    }
   ],
   "source": [
    "for xx in accuracies_8:\n",
    "    print(xx,end=\", \")"
   ]
  },
  {
   "cell_type": "code",
   "execution_count": null,
   "metadata": {},
   "outputs": [
    {
     "name": "stdout",
     "output_type": "stream",
     "text": [
      "0.98882496 0.022274656\n"
     ]
    },
    {
     "data": {
      "text/plain": [
       "Text(0,0.5,'frequency')"
      ]
     },
     "execution_count": null,
     "metadata": {},
     "output_type": "execute_result"
    },
    {
     "data": {
      "image/png": "[encoded data removed]",
      "text/plain": [
       "<matplotlib.figure.Figure at 0x7fba0014e7b8>"
      ]
     },
     "metadata": {},
     "output_type": "display_data"
    }
   ],
   "source": [
    "plt.figure(figsize=(7,5))\n",
    "plt.tick_params(axis='both', which='major', labelsize=15)\n",
    "\n",
    "print(np.mean(accuracies_8),np.std(accuracies_8))\n",
    "arr = plt.hist(accuracies_8)\n",
    "for i in range(len(arr[1])-1):\n",
    "    if int(arr[0][i]) != 0:\n",
    "        plt.text(float(arr[1][i])+0.001,arr[0][i],str(int(arr[0][i])),fontsize=15)\n",
    "        \n",
    "plt.xlabel(\"accuracy\",fontsize = 18)\n",
    "plt.ylabel(\"frequency\",fontsize = 18)"
   ]
  },
  {
   "cell_type": "markdown",
   "metadata": {},
   "source": [
    "<h3> single currency, close difference instead of closing price: </h3>"
   ]
  },
  {
   "cell_type": "code",
   "execution_count": null,
   "metadata": {},
   "outputs": [
    {
     "name": "stdout",
     "output_type": "stream",
     "text": [
      "75039\n"
     ]
    }
   ],
   "source": [
    "# read market data:\n",
    "file_list = glob.glob(\"./data/*\")\n",
    "\n",
    "df = uf.read_many_files(file_list[:1],add_to_each_df_func=shift_and_normalize)\n",
    "print(len(df))\n",
    "\n",
    "# drop nans, add diff cols:\n",
    "df.dropna(inplace=True)\n",
    "df['diff_1'] = df.close - df.close_1\n",
    "df['diff_2'] = df.close_1 - df.close_2\n",
    "df['diff_3'] = df.close_2 - df.close_3\n",
    "\n",
    "# split dataframe:\n",
    "features = ['diff_1','diff_2','diff_3']\n",
    "train_ratio=0.8\n",
    "train_x, test_x = split_to_train_and_test(df[features],train_ratio=train_ratio)\n",
    "\n",
    "# add truth column:\n",
    "cond = (df.close > df.close_1) & (df.close_1 > df.close_2) & (df.close_2 > df.close_3)\n",
    "add_truth(df,cond)\n",
    "train_y, test_y = split_to_train_and_test(df[\"truth\"],train_ratio=train_ratio)"
   ]
  },
  {
   "cell_type": "code",
   "execution_count": null,
   "metadata": {
    "collapsed": true,
    "scrolled": true
   },
   "outputs": [],
   "source": [
    "np.random.seed(0)\n",
    "hidden_units =  [5,5]\n",
    "num_steps = 50000\n",
    "accuracies_9 = []\n",
    "\n",
    "for i in range(30):\n",
    "    # build the NN structure:\n",
    "    my_feature_columns = make_feature_columns(features)\n",
    "    \n",
    "    classifier = tf.estimator.DNNClassifier(feature_columns=my_feature_columns,\\\n",
    "                                            hidden_units=hidden_units,\\\n",
    "                                            n_classes=2,\\\n",
    "                                            config = config)\n",
    "\n",
    "    # train the model:\n",
    "    classifier.train(input_fn=lambda: train_input_fn(train_x, train_y,\\\n",
    "                                                     batch_size=256,\\\n",
    "                                                     feature_labels=features),\\\n",
    "                     steps=num_steps)\n",
    "\n",
    "    print(\"\\n\\n eval_results:\")\n",
    "    eval_result = classifier.evaluate(input_fn=lambda: eval_input_fn(test_x,\\\n",
    "                                                                     test_y,\\\n",
    "                                                                     feature_labels = features,\\\n",
    "                                                                     batch_size=256))\n",
    "    \n",
    "    print('\\nTest set accuracy: {accuracy:0.3f}\\n'.format(**eval_result))\n",
    "    accuracies_9.append(eval_result['accuracy'])\n",
    "    print(\"iteration {} done\".format(i))\n",
    "    uf.rm_tmp_folder(classifier.model_dir)"
   ]
  },
  {
   "cell_type": "code",
   "execution_count": null,
   "metadata": {},
   "outputs": [
    {
     "name": "stdout",
     "output_type": "stream",
     "text": [
      "0.98900586, 0.99260396, 0.9945362, 0.9968683, 0.9297041, 0.99553573, 0.9948694, 0.9948028, 0.99553573, 0.9978012, 0.99600214, 0.99793446, 0.9984675, 0.9970016, 0.9880064, 0.9909382, 0.99227077, 0.97488004, 0.9888726, 0.9950693, 0.99586886, 0.9950027, 0.9942697, 0.9940698, 0.9960688, 0.99027187, 0.89005864, 0.9976013, 0.9881396, 0.9871402, "
     ]
    }
   ],
   "source": [
    "for xx in accuracies_9:\n",
    "    print(xx,end=\", \")"
   ]
  },
  {
   "cell_type": "code",
   "execution_count": null,
   "metadata": {},
   "outputs": [
    {
     "name": "stdout",
     "output_type": "stream",
     "text": [
      "0.98764 0.021899085\n"
     ]
    },
    {
     "data": {
      "text/plain": [
       "Text(0,0.5,'frequency')"
      ]
     },
     "execution_count": null,
     "metadata": {},
     "output_type": "execute_result"
    },
    {
     "data": {
      "image/png": "[encoded data removed]",
      "text/plain": [
       "<matplotlib.figure.Figure at 0x7f0ba5b5fba8>"
      ]
     },
     "metadata": {},
     "output_type": "display_data"
    }
   ],
   "source": [
    "plt.figure(figsize=(7,5))\n",
    "plt.tick_params(axis='both', which='major', labelsize=15)\n",
    "\n",
    "print(np.mean(accuracies_9),np.std(accuracies_9))\n",
    "arr = plt.hist(accuracies_9)\n",
    "for i in range(len(arr[1])-1):\n",
    "    if int(arr[0][i]) != 0:\n",
    "        plt.text(float(arr[1][i])+0.001,arr[0][i],str(int(arr[0][i])),fontsize=15)\n",
    "        \n",
    "plt.xlabel(\"accuracy\",fontsize = 18)\n",
    "plt.ylabel(\"frequency\",fontsize = 18)"
   ]
  },
  {
   "cell_type": "markdown",
   "metadata": {},
   "source": [
    "<h3> Three independent normal cols, truth: all cols > 0 : </h3>"
   ]
  },
  {
   "cell_type": "code",
   "execution_count": null,
   "metadata": {
    "collapsed": true
   },
   "outputs": [],
   "source": [
    "np.random.seed(0)\n",
    "N = 300000\n",
    "# build the dataset from normal distribution:\n",
    "df = build_random_normal_dataset(N=N)\n",
    "df = build_random_normal_dataset(df=df,N=N,col_name='close_1')\n",
    "df = build_random_normal_dataset(df,N=N,col_name='close_2')\n",
    "\n",
    "# split dataframe:\n",
    "features = list(df.columns)\n",
    "train_ratio=0.8\n",
    "train_x, test_x = split_to_train_and_test(df[features],train_ratio=train_ratio)\n",
    "\n",
    "# add truth column:\n",
    "cond = (df.close > 0) & (df.close_1 > 0) & (df.close_2 > 0)\n",
    "add_truth(df,cond)\n",
    "train_y, test_y = split_to_train_and_test(df[\"truth\"],train_ratio=train_ratio)"
   ]
  },
  {
   "cell_type": "code",
   "execution_count": null,
   "metadata": {
    "collapsed": true,
    "scrolled": true
   },
   "outputs": [],
   "source": [
    "hidden_units =  [5,5]\n",
    "num_steps = 10000\n",
    "\n",
    "# build the NN structure:\n",
    "my_feature_columns = make_feature_columns(features)\n",
    "\n",
    "classifier = tf.estimator.DNNClassifier(feature_columns=my_feature_columns,\\\n",
    "                                        hidden_units=hidden_units,\\\n",
    "                                        n_classes=2)\n",
    "\n",
    "# train the model:\n",
    "classifier.train(input_fn=lambda: train_input_fn(train_x, train_y,\\\n",
    "                                                 batch_size=256,\\\n",
    "                                                 feature_labels=features),\\\n",
    "                 steps=num_steps)\n",
    "\n",
    "print(\"\\n\\n eval_results:\")\n",
    "eval_result = classifier.evaluate(input_fn=lambda: eval_input_fn(test_x,\\\n",
    "                                                                 test_y,\\\n",
    "                                                                 feature_labels = features,\\\n",
    "                                                                 batch_size=256))\n",
    "# \n",
    "classifier.config.session_config.Clear()\n",
    "print('\\nTest set accuracy: {accuracy:0.3f}\\n'.format(**eval_result))"
   ]
  },
  {
   "cell_type": "code",
   "execution_count": null,
   "metadata": {
    "collapsed": true
   },
   "outputs": [],
   "source": []
  },
  {
   "cell_type": "code",
   "execution_count": null,
   "metadata": {
    "collapsed": true
   },
   "outputs": [],
   "source": []
  },
  {
   "cell_type": "code",
   "execution_count": null,
   "metadata": {
    "collapsed": true
   },
   "outputs": [],
   "source": []
  },
  {
   "cell_type": "code",
   "execution_count": null,
   "metadata": {
    "collapsed": true
   },
   "outputs": [],
   "source": []
  },
  {
   "cell_type": "code",
   "execution_count": null,
   "metadata": {
    "collapsed": true
   },
   "outputs": [],
   "source": []
  },
  {
   "cell_type": "code",
   "execution_count": null,
   "metadata": {
    "collapsed": true
   },
   "outputs": [],
   "source": []
  },
  {
   "cell_type": "code",
   "execution_count": null,
   "metadata": {
    "collapsed": true
   },
   "outputs": [],
   "source": []
  },
  {
   "cell_type": "code",
   "execution_count": null,
   "metadata": {
    "collapsed": true
   },
   "outputs": [],
   "source": []
  },
  {
   "cell_type": "code",
   "execution_count": null,
   "metadata": {
    "collapsed": true
   },
   "outputs": [],
   "source": []
  },
  {
   "cell_type": "code",
   "execution_count": null,
   "metadata": {
    "collapsed": true
   },
   "outputs": [],
   "source": []
  },
  {
   "cell_type": "code",
   "execution_count": null,
   "metadata": {
    "collapsed": true
   },
   "outputs": [],
   "source": []
  },
  {
   "cell_type": "code",
   "execution_count": null,
   "metadata": {
    "collapsed": true
   },
   "outputs": [],
   "source": []
  },
  {
   "cell_type": "code",
   "execution_count": null,
   "metadata": {
    "collapsed": true
   },
   "outputs": [],
   "source": []
  },
  {
   "cell_type": "code",
   "execution_count": null,
   "metadata": {
    "collapsed": true
   },
   "outputs": [],
   "source": []
  },
  {
   "cell_type": "code",
   "execution_count": null,
   "metadata": {
    "collapsed": true
   },
   "outputs": [],
   "source": []
  },
  {
   "cell_type": "code",
   "execution_count": null,
   "metadata": {
    "collapsed": true
   },
   "outputs": [],
   "source": []
  },
  {
   "cell_type": "code",
   "execution_count": null,
   "metadata": {
    "collapsed": true
   },
   "outputs": [],
   "source": []
  }
 ],
 "metadata": {
  "kernelspec": {
   "display_name": "Python 3",
   "language": "python",
   "name": "python3"
  },
  "language_info": {
   "codemirror_mode": {
    "name": "ipython",
    "version": 3
   },
   "file_extension": ".py",
   "mimetype": "text/x-python",
   "name": "python",
   "nbconvert_exporter": "python",
   "pygments_lexer": "ipython3",
   "version": "3.6.3"
  }
 },
 "nbformat": 4,
 "nbformat_minor": 2
}
